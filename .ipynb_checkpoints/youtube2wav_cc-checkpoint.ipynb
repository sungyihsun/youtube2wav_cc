{
 "cells": [
  {
   "cell_type": "code",
   "execution_count": 1,
   "metadata": {
    "Collapsed": "false"
   },
   "outputs": [],
   "source": [
    "from __future__ import unicode_literals\n",
    "import youtube_dl\n",
    "from pytube import YouTube\n",
    "\n",
    "def youtube2wav_cc(link):\n",
    "\n",
    "    ydl_opts = {\n",
    "        'format': 'bestaudio/best',\n",
    "        'postprocessors': [{\n",
    "            'key': 'FFmpegExtractAudio',\n",
    "            'preferredcodec': 'wav',\n",
    "            'preferredquality': '192',\n",
    "        }],\n",
    "    }\n",
    "    with youtube_dl.YoutubeDL(ydl_opts) as ydl:\n",
    "        ydl.download([link])\n",
    "\n",
    "    source = YouTube(link)\n",
    "\n",
    "\n",
    "    en_caption = source.captions.get_by_language_code('zh-TW')\n",
    "\n",
    "    en_caption_convert_to_srt =(en_caption.generate_srt_captions())\n",
    "\n",
    "    #print(en_caption_convert_to_srt)\n",
    "    #save the caption to a file named Output.txt\n",
    "    text_file = open(source.title + \".txt\", \"w\")\n",
    "    text_file.write(en_caption_convert_to_srt)\n",
    "    text_file.close()"
   ]
  },
  {
   "cell_type": "code",
   "execution_count": 2,
   "metadata": {
    "Collapsed": "false"
   },
   "outputs": [
    {
     "name": "stdout",
     "output_type": "stream",
     "text": [
      "[youtube] odILWz_035Q: Downloading webpage\n",
      "[download] Destination: 他變好壯! 跟大謙一起做運動【阿滴日常】-odILWz_035Q.webm\n",
      "[download] 100% of 7.66MiB in 00:0020MiB/s ETA 00:008\n",
      "[ffmpeg] Destination: 他變好壯! 跟大謙一起做運動【阿滴日常】-odILWz_035Q.wav\n",
      "Deleting original file 他變好壯! 跟大謙一起做運動【阿滴日常】-odILWz_035Q.webm (pass -k to keep)\n"
     ]
    },
    {
     "name": "stderr",
     "output_type": "stream",
     "text": [
      "/opt/conda/lib/python3.6/site-packages/ipykernel_launcher.py:21: DeprecationWarning: Call to deprecated function get_by_language_code (This object can be treated as a dictionary, i.e. captions['en']).\n"
     ]
    }
   ],
   "source": [
    "link = 'https://www.youtube.com/watch?v=odILWz_035Q'\n",
    "youtube2wav_cc(link)\n",
    "title = YouTube(link).title\n",
    "video_id = YouTube(link).video_id"
   ]
  },
  {
   "cell_type": "code",
   "execution_count": 3,
   "metadata": {
    "Collapsed": "false"
   },
   "outputs": [],
   "source": [
    "import os\n",
    "def mkdir_(path):\n",
    "    if not os.path.isdir(path):\n",
    "        os.mkdir(path)\n",
    "mkdir_(title)\n",
    "mkdir_(title+'/wav')\n",
    "mkdir_(title+'/txt')"
   ]
  },
  {
   "cell_type": "code",
   "execution_count": 4,
   "metadata": {
    "Collapsed": "false"
   },
   "outputs": [],
   "source": [
    "import wave\n",
    "with open(title + '.txt', 'r') as fp:\n",
    "    cc = fp.read() \n",
    "time_step = cc.split('\\n')[1::4]\n",
    "text = cc.split('\\n')[2::4]\n",
    "for i in range(0,len(time_step)-5,5):\n",
    "    #--------------wav---------------------\n",
    "    strat_list = time_step[i].split(' --> ')[0].split(':')\n",
    "    sec = strat_list[2].split(',')\n",
    "    strat = int(strat_list[0]) * 3600 + int(strat_list[1]) * 60 +  int(sec[0]) + int(sec[1]) * 0.001\n",
    "\n",
    "    end_list = time_step[i+4].split(' --> ')[1].split(':')\n",
    "    sec = end_list[2].split(',')\n",
    "    end = int(end_list[0]) * 3600 + int(end_list[1]) * 60 +  int(sec[0]) + int(sec[1]) * 0.001\n",
    "    \n",
    "    \n",
    "\n",
    "    win= wave.open(title +'-'+ video_id + '.wav', 'rb')\n",
    "    wout= wave.open(title + '/wav/' +str(i) + '.wav', 'wb')\n",
    "\n",
    "    t0, t1= strat, end # cut audio between one and two seconds\n",
    "    s0, s1= int(t0*win.getframerate()), int(t1*win.getframerate())\n",
    "    win.readframes(s0) # discard\n",
    "    frames= win.readframes(s1-s0)\n",
    "\n",
    "    wout.setparams(win.getparams())\n",
    "    wout.writeframes(frames)\n",
    "\n",
    "    win.close()\n",
    "    wout.close()\n",
    "    #------------txt--------------------------\n",
    "    with open(title + '/txt/'+str(i)+'.txt', 'w') as fp:\n",
    "        for j in range(5):\n",
    "            fp.write(text[i+j] + ' ')"
   ]
  },
  {
   "cell_type": "code",
   "execution_count": null,
   "metadata": {
    "Collapsed": "false"
   },
   "outputs": [],
   "source": []
  }
 ],
 "metadata": {
  "kernelspec": {
   "display_name": "Python 3",
   "language": "python",
   "name": "python3"
  },
  "language_info": {
   "codemirror_mode": {
    "name": "ipython",
    "version": 3
   },
   "file_extension": ".py",
   "mimetype": "text/x-python",
   "name": "python",
   "nbconvert_exporter": "python",
   "pygments_lexer": "ipython3",
   "version": "3.6.9"
  }
 },
 "nbformat": 4,
 "nbformat_minor": 4
}
